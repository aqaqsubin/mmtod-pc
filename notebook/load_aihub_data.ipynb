{
 "cells": [
  {
   "cell_type": "code",
   "execution_count": 37,
   "metadata": {},
   "outputs": [],
   "source": [
    "import os\n",
    "import json\n",
    "import errno\n",
    "import zipfile\n",
    "import pandas as pd\n",
    "\n",
    "from shutil import rmtree\n",
    "\n",
    "from zipfile import ZipFile\n",
    "from tqdm import tqdm\n",
    "from glob import iglob\n",
    "from os.path import join as pjoin"
   ]
  },
  {
   "cell_type": "code",
   "execution_count": 38,
   "metadata": {},
   "outputs": [],
   "source": [
    "def mkdir_p(path):\n",
    "    try:\n",
    "        os.makedirs(path)\n",
    "    except OSError as exc:\n",
    "        if exc.errno == errno.EEXIST and os.path.isdir(path):\n",
    "            pass\n",
    "        else:\n",
    "            raise\n",
    "def del_folder(path):\n",
    "    try:\n",
    "        rmtree(path)\n",
    "    except:\n",
    "        pass\n",
    "\n",
    "def read_json(json_path):\n",
    "    with open(json_path, 'r') as f:\n",
    "        return json.load(f)\n",
    "\n",
    "def write_json(save_path, json_obj):\n",
    "    with open(save_path, 'w', encoding='utf-8') as make_file:\n",
    "        json.dump(json_obj, make_file, indent=\"\\t\")\n",
    "    return\n",
    "\n",
    "def get_extension(file_path):\n",
    "    return file_path.split(\".\")[-1]\n"
   ]
  },
  {
   "cell_type": "code",
   "execution_count": 40,
   "metadata": {},
   "outputs": [],
   "source": [
    "DATA_DIR = \"/data/ai_hub\""
   ]
  },
  {
   "cell_type": "code",
   "execution_count": 41,
   "metadata": {},
   "outputs": [],
   "source": [
    "ANNOT_DIR = pjoin(DATA_DIR, \"annotations\")\n",
    "IMAGE_DIR = pjoin(DATA_DIR, \"images\")"
   ]
  },
  {
   "cell_type": "code",
   "execution_count": 42,
   "metadata": {},
   "outputs": [],
   "source": [
    "emotion_kor_to_eng = {\n",
    "    \"기쁨\" : \"happy\",\n",
    "    \"당황\" : \"embarrassing\",\n",
    "    \"분노\" : \"angry\",\n",
    "    \"불안\" : \"unrest\",\n",
    "    \"상처\" : \"hurt\",\n",
    "    \"슬픔\" : \"sad\",\n",
    "    \"중립\" : \"neutral\",\n",
    "}"
   ]
  },
  {
   "cell_type": "markdown",
   "metadata": {},
   "source": [
    "### **Load Images**"
   ]
  },
  {
   "cell_type": "code",
   "execution_count": 47,
   "metadata": {},
   "outputs": [],
   "source": [
    "image_list = list(iglob(pjoin(IMAGE_DIR, \"**/*.jpg\")))\n",
    "\n",
    "image_path = image_list[0]\n",
    "emotion, image_name = image_path.split(os.sep)[-2:]\n",
    "uid, gender, age, _, background, _ = image_name.split(\"_\")\n"
   ]
  },
  {
   "cell_type": "code",
   "execution_count": 61,
   "metadata": {},
   "outputs": [
    {
     "name": "stderr",
     "output_type": "stream",
     "text": [
      "Build image DataFrame: 100%|██████████| 427565/427565 [00:00<00:00, 542385.21it/s]\n"
     ]
    }
   ],
   "source": [
    "#-*-coding:utf-8 -*-\n",
    "FEMALE_ID = '┐⌐'\n",
    "\n",
    "image_list = list(iglob(pjoin(IMAGE_DIR, \"**/*.jpg\")))\n",
    "\n",
    "data_rows = []\n",
    "for image_path in tqdm(image_list, total=len(image_list), desc=\"Build image DataFrame\"):\n",
    "    emotion, image_name = image_path.split(os.sep)[-2:]\n",
    "\n",
    "    image_name = image_name.split(\".\")[0]\n",
    "    uid, sex, age, _, background, upload_id = image_name.split(\"_\")\n",
    "    row = {\n",
    "        'uid': uid,\n",
    "        'sex': 'female' if sex==FEMALE_ID else 'male',\n",
    "        'age': age,\n",
    "        'emotion': emotion,\n",
    "        'upload_id': upload_id\n",
    "    }\n",
    "    data_rows += [row]\n",
    "\n",
    "image_df = pd.DataFrame(data_rows, columns=['uid', 'sex', 'age', 'emotion', 'upload_id'])"
   ]
  },
  {
   "cell_type": "code",
   "execution_count": 62,
   "metadata": {},
   "outputs": [
    {
     "data": {
      "text/html": [
       "<div>\n",
       "<style scoped>\n",
       "    .dataframe tbody tr th:only-of-type {\n",
       "        vertical-align: middle;\n",
       "    }\n",
       "\n",
       "    .dataframe tbody tr th {\n",
       "        vertical-align: top;\n",
       "    }\n",
       "\n",
       "    .dataframe thead th {\n",
       "        text-align: right;\n",
       "    }\n",
       "</style>\n",
       "<table border=\"1\" class=\"dataframe\">\n",
       "  <thead>\n",
       "    <tr style=\"text-align: right;\">\n",
       "      <th></th>\n",
       "      <th>uid</th>\n",
       "      <th>sex</th>\n",
       "      <th>age</th>\n",
       "      <th>emotion</th>\n",
       "      <th>upload_id</th>\n",
       "    </tr>\n",
       "  </thead>\n",
       "  <tbody>\n",
       "    <tr>\n",
       "      <th>0</th>\n",
       "      <td>a7ec0d470482eb7dad965c5239878a80351bfc545ab380...</td>\n",
       "      <td>female</td>\n",
       "      <td>30</td>\n",
       "      <td>angry</td>\n",
       "      <td>20210126165559-008-013</td>\n",
       "    </tr>\n",
       "    <tr>\n",
       "      <th>1</th>\n",
       "      <td>ca3a4e6e725cbd4765f642703c442507648cefb3eb9262...</td>\n",
       "      <td>female</td>\n",
       "      <td>20</td>\n",
       "      <td>angry</td>\n",
       "      <td>20201209133740-001-012</td>\n",
       "    </tr>\n",
       "    <tr>\n",
       "      <th>2</th>\n",
       "      <td>a667c053b3b14d27c1ee3b14dcf94851b3e5c7d5bc1c7e...</td>\n",
       "      <td>male</td>\n",
       "      <td>40</td>\n",
       "      <td>angry</td>\n",
       "      <td>20201206165753-002-025</td>\n",
       "    </tr>\n",
       "    <tr>\n",
       "      <th>3</th>\n",
       "      <td>39315cc47f869c05d22cdf3e07ad196c2266c0008e7f7c...</td>\n",
       "      <td>female</td>\n",
       "      <td>30</td>\n",
       "      <td>angry</td>\n",
       "      <td>20201207025953-010-016</td>\n",
       "    </tr>\n",
       "    <tr>\n",
       "      <th>4</th>\n",
       "      <td>c2391ae6ca010a33e9b40d5dc4416fc947deca98324f73...</td>\n",
       "      <td>female</td>\n",
       "      <td>30</td>\n",
       "      <td>angry</td>\n",
       "      <td>20210126172945-010-003</td>\n",
       "    </tr>\n",
       "  </tbody>\n",
       "</table>\n",
       "</div>"
      ],
      "text/plain": [
       "                                                 uid     sex age emotion  \\\n",
       "0  a7ec0d470482eb7dad965c5239878a80351bfc545ab380...  female  30   angry   \n",
       "1  ca3a4e6e725cbd4765f642703c442507648cefb3eb9262...  female  20   angry   \n",
       "2  a667c053b3b14d27c1ee3b14dcf94851b3e5c7d5bc1c7e...    male  40   angry   \n",
       "3  39315cc47f869c05d22cdf3e07ad196c2266c0008e7f7c...  female  30   angry   \n",
       "4  c2391ae6ca010a33e9b40d5dc4416fc947deca98324f73...  female  30   angry   \n",
       "\n",
       "                upload_id  \n",
       "0  20210126165559-008-013  \n",
       "1  20201209133740-001-012  \n",
       "2  20201206165753-002-025  \n",
       "3  20201207025953-010-016  \n",
       "4  20210126172945-010-003  "
      ]
     },
     "execution_count": 62,
     "metadata": {},
     "output_type": "execute_result"
    }
   ],
   "source": [
    "image_df.head()"
   ]
  },
  {
   "cell_type": "code",
   "execution_count": 64,
   "metadata": {},
   "outputs": [
    {
     "data": {
      "text/plain": [
       "427565"
      ]
     },
     "execution_count": 64,
     "metadata": {},
     "output_type": "execute_result"
    }
   ],
   "source": [
    "len(image_df)"
   ]
  },
  {
   "cell_type": "code",
   "execution_count": 66,
   "metadata": {},
   "outputs": [
    {
     "data": {
      "text/plain": [
       "427565"
      ]
     },
     "execution_count": 66,
     "metadata": {},
     "output_type": "execute_result"
    }
   ],
   "source": [
    "len(image_df.drop_duplicates())"
   ]
  },
  {
   "cell_type": "code",
   "execution_count": 69,
   "metadata": {},
   "outputs": [],
   "source": [
    "import pandas as pd\n",
    "import numpy as np\n",
    "import math\n",
    "import torch\n",
    "import re\n",
    "import os\n",
    "import matplotlib.pyplot as plt\n",
    "import numpy as np\n",
    "import seaborn as sns\n",
    "import warnings\n",
    "\n",
    "from os.path import join as pjoin\n",
    "\n",
    "warnings.filterwarnings(action='ignore') "
   ]
  },
  {
   "cell_type": "code",
   "execution_count": 108,
   "metadata": {},
   "outputs": [
    {
     "data": {
      "image/png": "[encoded data removed]",
      "text/plain": [
       "<Figure size 800x500 with 1 Axes>"
      ]
     },
     "metadata": {},
     "output_type": "display_data"
    }
   ],
   "source": [
    "plt.rcParams[\"figure.figsize\"] = (8, 5)\n",
    "plt.rc('font', size=12)\n",
    "\n",
    "fig, axarr = plt.subplots(1, 1)\n",
    "sns.countplot(x=image_df[\"age\"], ax=axarr, palette=sns.color_palette(\"Set2\"))\n",
    "axarr.set_title('Age distribution')\n",
    "\n",
    "fig.tight_layout()\n",
    "fig.subplots_adjust(top=0.88)\n",
    "\n",
    "plt.show()"
   ]
  },
  {
   "cell_type": "code",
   "execution_count": 110,
   "metadata": {},
   "outputs": [
    {
     "data": {
      "image/png": "[encoded data removed]",
      "text/plain": [
       "<Figure size 500x500 with 1 Axes>"
      ]
     },
     "metadata": {},
     "output_type": "display_data"
    }
   ],
   "source": [
    "labels = ['Female', 'Male']\n",
    "colors = ['#ff9999', '#8fd9b6']\n",
    "wedgeprops={'width': 0.7, 'edgecolor': 'w', 'linewidth': 5}\n",
    "\n",
    "plt.rcParams[\"figure.figsize\"] = (5, 5)\n",
    "plt.rc('font', size=12)\n",
    "\n",
    "# entire_data = pd.concat([train_data, test_result])\n",
    "female_ratio = len(image_df[image_df[\"sex\"]=='female']) / len(image_df)\n",
    "male_ratio = len(image_df[image_df[\"sex\"]=='male']) / len(image_df)\n",
    "\n",
    "ratios =[female_ratio, male_ratio]\n",
    "plt.pie(ratios, labels=labels, autopct='%.1f%%', shadow=False, colors=colors, wedgeprops=wedgeprops)\n",
    "plt.title('The ratio of gender')\n",
    "\n",
    "plt.show()"
   ]
  },
  {
   "cell_type": "code",
   "execution_count": 112,
   "metadata": {},
   "outputs": [
    {
     "data": {
      "image/png": "[encoded data removed]",
      "text/plain": [
       "<Figure size 600x600 with 1 Axes>"
      ]
     },
     "metadata": {},
     "output_type": "display_data"
    }
   ],
   "source": [
    "wedgeprops={'width': 0.7, 'edgecolor': 'w', 'linewidth': 5}\n",
    "colors = sns.color_palette('pastel')[0:7]\n",
    "\n",
    "plt.rcParams[\"figure.figsize\"] = (6, 6)\n",
    "plt.rc('font', size=10)\n",
    "\n",
    "fig, axarr = plt.subplots(1, 1)\n",
    "\n",
    "emotion_list = list(image_df['emotion'].unique())\n",
    "\n",
    "ratios, labels = [], []\n",
    "for emotion in emotion_list:\n",
    "    ratio = len(image_df[image_df[\"emotion\"] == emotion]) / len(image_df)\n",
    "    ratios += [ratio]\n",
    "    labels += [f'{emotion}']\n",
    "\n",
    "axarr.pie(ratios, labels=labels, autopct='%.1f%%', shadow=False, colors = colors)\n",
    "axarr.set_title('The ratio of emotion')\n",
    "\n",
    "plt.show()"
   ]
  },
  {
   "cell_type": "markdown",
   "metadata": {},
   "source": [
    "### **Generated dialogue dataset**"
   ]
  },
  {
   "cell_type": "code",
   "execution_count": 6,
   "metadata": {},
   "outputs": [
    {
     "data": {
      "text/html": [
       "<div>\n",
       "<style scoped>\n",
       "    .dataframe tbody tr th:only-of-type {\n",
       "        vertical-align: middle;\n",
       "    }\n",
       "\n",
       "    .dataframe tbody tr th {\n",
       "        vertical-align: top;\n",
       "    }\n",
       "\n",
       "    .dataframe thead th {\n",
       "        text-align: right;\n",
       "    }\n",
       "</style>\n",
       "<table border=\"1\" class=\"dataframe\">\n",
       "  <thead>\n",
       "    <tr style=\"text-align: right;\">\n",
       "      <th></th>\n",
       "      <th>filename</th>\n",
       "      <th>age</th>\n",
       "      <th>sex</th>\n",
       "      <th>emotion</th>\n",
       "      <th>gpt_prompt</th>\n",
       "      <th>dialogue</th>\n",
       "    </tr>\n",
       "  </thead>\n",
       "  <tbody>\n",
       "    <tr>\n",
       "      <th>0</th>\n",
       "      <td>8eda43d87e4ef16a231f97114c20d59660b02b99514db5...</td>\n",
       "      <td>30</td>\n",
       "      <td>male</td>\n",
       "      <td>angry</td>\n",
       "      <td>On the screen, the face of a 30 year old male ...</td>\n",
       "      <td>Question: Are you feeling angry right now?\\nAn...</td>\n",
       "    </tr>\n",
       "    <tr>\n",
       "      <th>1</th>\n",
       "      <td>60f9f06dcbf85639b594a076906a68377135895dea575e...</td>\n",
       "      <td>40</td>\n",
       "      <td>female</td>\n",
       "      <td>angry</td>\n",
       "      <td>On the screen, the face of a 40 year old femal...</td>\n",
       "      <td>System: It seems like you're feeling angry rig...</td>\n",
       "    </tr>\n",
       "    <tr>\n",
       "      <th>2</th>\n",
       "      <td>93be3d09b7faa6b1ca4c6223cf9f3d0cb66ad91faf837f...</td>\n",
       "      <td>30</td>\n",
       "      <td>female</td>\n",
       "      <td>angry</td>\n",
       "      <td>On the screen, the face of a 30 year old femal...</td>\n",
       "      <td>Question: Are you feeling angry or upset right...</td>\n",
       "    </tr>\n",
       "    <tr>\n",
       "      <th>3</th>\n",
       "      <td>534cd9fc1f57352eda6275c4e23a2a5781f9f253854a59...</td>\n",
       "      <td>20</td>\n",
       "      <td>male</td>\n",
       "      <td>angry</td>\n",
       "      <td>A 20-year-old male patient is in front of me t...</td>\n",
       "      <td>Question: Are you feeling angry right now?\\nAn...</td>\n",
       "    </tr>\n",
       "    <tr>\n",
       "      <th>4</th>\n",
       "      <td>8b8f577b0f7a8fbfc56520b243dcc09ec7567b7db02f4e...</td>\n",
       "      <td>30</td>\n",
       "      <td>female</td>\n",
       "      <td>angry</td>\n",
       "      <td>A 30-year-old female patient is in front of me...</td>\n",
       "      <td>Question: Are you feeling angry right now?\\nAn...</td>\n",
       "    </tr>\n",
       "    <tr>\n",
       "      <th>...</th>\n",
       "      <td>...</td>\n",
       "      <td>...</td>\n",
       "      <td>...</td>\n",
       "      <td>...</td>\n",
       "      <td>...</td>\n",
       "      <td>...</td>\n",
       "    </tr>\n",
       "    <tr>\n",
       "      <th>995</th>\n",
       "      <td>b5e7df0a903628cdb46ee2553b1ebce588bdab0e058876...</td>\n",
       "      <td>40</td>\n",
       "      <td>male</td>\n",
       "      <td>angry</td>\n",
       "      <td>A 40-year-old male patient is shown on the scr...</td>\n",
       "      <td>System: It seems like you're feeling angry. Is...</td>\n",
       "    </tr>\n",
       "    <tr>\n",
       "      <th>996</th>\n",
       "      <td>c0c96a02d14a1438184c7e3530f86a11eb9007713b940d...</td>\n",
       "      <td>50</td>\n",
       "      <td>female</td>\n",
       "      <td>angry</td>\n",
       "      <td>A 50-year-old female patient is shown on the s...</td>\n",
       "      <td>Question: Are you feeling angry right now?\\nAn...</td>\n",
       "    </tr>\n",
       "    <tr>\n",
       "      <th>997</th>\n",
       "      <td>d489da5295a616e29b53e9c72af7d58f2c0ed7955cafe1...</td>\n",
       "      <td>20</td>\n",
       "      <td>male</td>\n",
       "      <td>angry</td>\n",
       "      <td>A 20-year-old male patient is shown on the scr...</td>\n",
       "      <td>System: You seem angry and upset. Is there som...</td>\n",
       "    </tr>\n",
       "    <tr>\n",
       "      <th>998</th>\n",
       "      <td>3b41262ea64af03434c6d5553470563bfd0ad8f26943fb...</td>\n",
       "      <td>40</td>\n",
       "      <td>male</td>\n",
       "      <td>angry</td>\n",
       "      <td>A 40-year-old male patient is in front of me t...</td>\n",
       "      <td>Question: Are you feeling angry right now?\\nAn...</td>\n",
       "    </tr>\n",
       "    <tr>\n",
       "      <th>999</th>\n",
       "      <td>5f2ac0f161ab6f0b07a219002d00c27397b1f15f0d4703...</td>\n",
       "      <td>20</td>\n",
       "      <td>male</td>\n",
       "      <td>angry</td>\n",
       "      <td>On the screen, the face of a 20 year old male ...</td>\n",
       "      <td>Question: Are you feeling angry right now?\\nAn...</td>\n",
       "    </tr>\n",
       "  </tbody>\n",
       "</table>\n",
       "<p>1000 rows × 6 columns</p>\n",
       "</div>"
      ],
      "text/plain": [
       "                                              filename  age     sex emotion  \\\n",
       "0    8eda43d87e4ef16a231f97114c20d59660b02b99514db5...   30    male   angry   \n",
       "1    60f9f06dcbf85639b594a076906a68377135895dea575e...   40  female   angry   \n",
       "2    93be3d09b7faa6b1ca4c6223cf9f3d0cb66ad91faf837f...   30  female   angry   \n",
       "3    534cd9fc1f57352eda6275c4e23a2a5781f9f253854a59...   20    male   angry   \n",
       "4    8b8f577b0f7a8fbfc56520b243dcc09ec7567b7db02f4e...   30  female   angry   \n",
       "..                                                 ...  ...     ...     ...   \n",
       "995  b5e7df0a903628cdb46ee2553b1ebce588bdab0e058876...   40    male   angry   \n",
       "996  c0c96a02d14a1438184c7e3530f86a11eb9007713b940d...   50  female   angry   \n",
       "997  d489da5295a616e29b53e9c72af7d58f2c0ed7955cafe1...   20    male   angry   \n",
       "998  3b41262ea64af03434c6d5553470563bfd0ad8f26943fb...   40    male   angry   \n",
       "999  5f2ac0f161ab6f0b07a219002d00c27397b1f15f0d4703...   20    male   angry   \n",
       "\n",
       "                                            gpt_prompt  \\\n",
       "0    On the screen, the face of a 30 year old male ...   \n",
       "1    On the screen, the face of a 40 year old femal...   \n",
       "2    On the screen, the face of a 30 year old femal...   \n",
       "3    A 20-year-old male patient is in front of me t...   \n",
       "4    A 30-year-old female patient is in front of me...   \n",
       "..                                                 ...   \n",
       "995  A 40-year-old male patient is shown on the scr...   \n",
       "996  A 50-year-old female patient is shown on the s...   \n",
       "997  A 20-year-old male patient is shown on the scr...   \n",
       "998  A 40-year-old male patient is in front of me t...   \n",
       "999  On the screen, the face of a 20 year old male ...   \n",
       "\n",
       "                                              dialogue  \n",
       "0    Question: Are you feeling angry right now?\\nAn...  \n",
       "1    System: It seems like you're feeling angry rig...  \n",
       "2    Question: Are you feeling angry or upset right...  \n",
       "3    Question: Are you feeling angry right now?\\nAn...  \n",
       "4    Question: Are you feeling angry right now?\\nAn...  \n",
       "..                                                 ...  \n",
       "995  System: It seems like you're feeling angry. Is...  \n",
       "996  Question: Are you feeling angry right now?\\nAn...  \n",
       "997  System: You seem angry and upset. Is there som...  \n",
       "998  Question: Are you feeling angry right now?\\nAn...  \n",
       "999  Question: Are you feeling angry right now?\\nAn...  \n",
       "\n",
       "[1000 rows x 6 columns]"
      ]
     },
     "execution_count": 6,
     "metadata": {},
     "output_type": "execute_result"
    }
   ],
   "source": [
    "sample_val = pd.read_parquet(pjoin(DATA_DIR, \"sample_val\", \"val_sample_1000.parquet\"))\n",
    "sample_val"
   ]
  },
  {
   "cell_type": "code",
   "execution_count": 11,
   "metadata": {},
   "outputs": [
    {
     "data": {
      "text/plain": [
       "\"Question: Are you feeling angry right now?\\nAnswer: Yes, I'm feeling really angry.\\nQuestion: What triggers your anger in this moment?\\nAnswer: I feel overwhelmed and frustrated with my panic disorder symptoms.\\nQuestion: How do you usually cope with your anger?\\nAnswer: I try to remind myself to take deep breaths and practice relaxation techniques when I feel anger rising.\\nQuestion: Have you noticed any specific symptoms during your panic attacks?\\nAnswer: Yes, I often experience palpitations, shortness of breath, and a sense of derealization during my panic attacks.\\nQuestion: How long do your panic attacks typically last?\\nAnswer: They can last anywhere from a few minutes to an hour, but the intense symptoms usually subside after about 10-15 minutes.\""
      ]
     },
     "execution_count": 11,
     "metadata": {},
     "output_type": "execute_result"
    }
   ],
   "source": [
    "sample_val.iloc[0]['dialogue']"
   ]
  },
  {
   "cell_type": "code",
   "execution_count": 10,
   "metadata": {},
   "outputs": [
    {
     "name": "stdout",
     "output_type": "stream",
     "text": [
      "Question: Are you feeling angry right now?\n",
      "Answer: Yes, I'm feeling really angry.\n",
      "Question: What triggers your anger in this moment?\n",
      "Answer: I feel overwhelmed and frustrated with my panic disorder symptoms.\n",
      "Question: How do you usually cope with your anger?\n",
      "Answer: I try to remind myself to take deep breaths and practice relaxation techniques when I feel anger rising.\n",
      "Question: Have you noticed any specific symptoms during your panic attacks?\n",
      "Answer: Yes, I often experience palpitations, shortness of breath, and a sense of derealization during my panic attacks.\n",
      "Question: How long do your panic attacks typically last?\n",
      "Answer: They can last anywhere from a few minutes to an hour, but the intense symptoms usually subside after about 10-15 minutes.\n"
     ]
    }
   ],
   "source": [
    "print(sample_val.iloc[0]['dialogue'])"
   ]
  },
  {
   "cell_type": "code",
   "execution_count": 12,
   "metadata": {},
   "outputs": [
    {
     "data": {
      "text/plain": [
       "{'panic disorder symptoms': None,\n",
       " 'user state': 'stable',\n",
       " 'panic triggering situation': None,\n",
       " 'active or not': 'not',\n",
       " 'frequency': None,\n",
       " 'severity level': None,\n",
       " 'countermeasure action': None}"
      ]
     },
     "execution_count": 12,
     "metadata": {},
     "output_type": "execute_result"
    }
   ],
   "source": [
    "{'panic disorder symptoms' : None, \n",
    " 'user state': 'stable', \n",
    " 'panic triggering situation': None, \n",
    " 'active or not': 'not', \n",
    " 'frequency': None, \n",
    " 'severity level': None, \n",
    " 'countermeasure action': None}"
   ]
  }
 ],
 "metadata": {
  "kernelspec": {
   "display_name": "cmu",
   "language": "python",
   "name": "python3"
  },
  "language_info": {
   "codemirror_mode": {
    "name": "ipython",
    "version": 3
   },
   "file_extension": ".py",
   "mimetype": "text/x-python",
   "name": "python",
   "nbconvert_exporter": "python",
   "pygments_lexer": "ipython3",
   "version": "3.8.17"
  },
  "orig_nbformat": 4
 },
 "nbformat": 4,
 "nbformat_minor": 2
}
