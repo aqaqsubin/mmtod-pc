{
 "cells": [
  {
   "cell_type": "code",
   "execution_count": 11,
   "metadata": {},
   "outputs": [],
   "source": [
    "import os\n",
    "import json\n",
    "import errno\n",
    "import zipfile\n",
    "\n",
    "from shutil import rmtree\n",
    "\n",
    "from zipfile import ZipFile\n",
    "from tqdm import tqdm\n",
    "from glob import iglob\n",
    "from os.path import join as pjoin"
   ]
  },
  {
   "cell_type": "code",
   "execution_count": 3,
   "metadata": {},
   "outputs": [],
   "source": [
    "def mkdir_p(path):\n",
    "    try:\n",
    "        os.makedirs(path)\n",
    "    except OSError as exc:\n",
    "        if exc.errno == errno.EEXIST and os.path.isdir(path):\n",
    "            pass\n",
    "        else:\n",
    "            raise\n",
    "def del_folder(path):\n",
    "    try:\n",
    "        rmtree(path)\n",
    "    except:\n",
    "        pass\n",
    "\n",
    "def read_json(json_path):\n",
    "    with open(json_path, 'r') as f:\n",
    "        return json.load(f)\n",
    "\n",
    "def write_json(save_path, json_obj):\n",
    "    with open(save_path, 'w', encoding='utf-8') as make_file:\n",
    "        json.dump(json_obj, make_file, indent=\"\\t\")\n",
    "    return\n",
    "\n",
    "def get_extension(file_path):\n",
    "    return file_path.split(\".\")[-1]\n"
   ]
  },
  {
   "cell_type": "code",
   "execution_count": 37,
   "metadata": {},
   "outputs": [],
   "source": [
    "ROOT_DIR = \"/root/pc-tod\"\n",
    "DATA_DIR = pjoin(ROOT_DIR, \"data/new_sample\")"
   ]
  },
  {
   "cell_type": "code",
   "execution_count": 38,
   "metadata": {},
   "outputs": [],
   "source": [
    "ANNOT_DIR = pjoin(DATA_DIR, \"annotations\")\n",
    "IMAGE_DIR = pjoin(DATA_DIR, \"images\")"
   ]
  },
  {
   "cell_type": "code",
   "execution_count": 39,
   "metadata": {},
   "outputs": [],
   "source": [
    "emotion_kor_to_eng = {\n",
    "    \"기쁨\" : \"happy\",\n",
    "    \"당황\" : \"embarrassing\",\n",
    "    \"분노\" : \"angry\",\n",
    "    \"불안\" : \"unrest\",\n",
    "    \"상처\" : \"hurt\",\n",
    "    \"슬픔\" : \"sad\",\n",
    "    \"중립\" : \"neutral\",\n",
    "}"
   ]
  },
  {
   "cell_type": "markdown",
   "metadata": {},
   "source": [
    "### **Decompress zip files**"
   ]
  },
  {
   "cell_type": "code",
   "execution_count": 40,
   "metadata": {},
   "outputs": [
    {
     "name": "stderr",
     "output_type": "stream",
     "text": [
      "0it [00:00, ?it/s]\n"
     ]
    }
   ],
   "source": [
    "# Annotations\n",
    "for zip_p in tqdm(iglob(pjoin(ANNOT_DIR, \"**/*.zip\"))):\n",
    "    zip_filename = zip_p.split(os.sep)[-1].split(\".zip\")[0]\n",
    "    emotion, subset = zip_filename.split(\"_\")[1:]\n",
    "                \n",
    "    tgt_dir = pjoin(ANNOT_DIR, emotion_kor_to_eng[emotion])\n",
    "    \n",
    "    with ZipFile(zip_p, 'r') as zip_ref:\n",
    "        zip_ref.extractall(tgt_dir)"
   ]
  },
  {
   "cell_type": "code",
   "execution_count": null,
   "metadata": {},
   "outputs": [],
   "source": [
    "# Images\n",
    "for zip_p in tqdm(iglob(pjoin(IMAGE_DIR, \"**/*.zip\"))):\n",
    "    zip_filename = zip_p.split(os.sep)[-1].split(\".zip\")[0]\n",
    "    emotion, subset = zip_filename.split(\"_\")[1:]\n",
    "                \n",
    "    tgt_dir = pjoin(IMAGE_DIR, emotion_kor_to_eng[emotion])\n",
    "    \n",
    "    with ZipFile(zip_p, 'r') as zip_ref:\n",
    "        zip_ref.extractall(tgt_dir)"
   ]
  },
  {
   "cell_type": "markdown",
   "metadata": {},
   "source": [
    "### **Rename files**"
   ]
  },
  {
   "cell_type": "code",
   "execution_count": 41,
   "metadata": {},
   "outputs": [],
   "source": [
    "import re\n",
    "def remove_special_chars(text):\n",
    "    return re.sub('[^0-9a-zA-Z\\_\\.\\-]', '', text)\n",
    "\n",
    "def del_duplicated_underbar(text):\n",
    "    return re.sub('[\\_]+', '_', text)\n"
   ]
  },
  {
   "cell_type": "code",
   "execution_count": 43,
   "metadata": {},
   "outputs": [
    {
     "name": "stderr",
     "output_type": "stream",
     "text": [
      "1it [00:00, 2943.37it/s]\n"
     ]
    }
   ],
   "source": [
    "# Annotations\n",
    "for file_p in tqdm(iglob(pjoin(ANNOT_DIR, \"**/*.json\"))):\n",
    "    dirname = os.sep.join(file_p.split(os.sep)[:-1])\n",
    "    filename = remove_special_chars(file_p.split(os.sep)[-1])\n",
    "\n",
    "    new_file_p = pjoin(dirname, filename)\n",
    "    if file_p == new_file_p: continue\n",
    "    \n",
    "    assert not os.path.exists(new_file_p), f\"Already exist: {new_file_p}\"\n",
    "    os.rename(file_p, new_file_p)"
   ]
  },
  {
   "cell_type": "code",
   "execution_count": 44,
   "metadata": {},
   "outputs": [
    {
     "name": "stderr",
     "output_type": "stream",
     "text": [
      "290it [00:00, 20683.38it/s]\n"
     ]
    }
   ],
   "source": [
    "# Images\n",
    "for file_p in tqdm(iglob(pjoin(IMAGE_DIR, \"**/*.jpg\"))):\n",
    "    dirname = os.sep.join(file_p.split(os.sep)[:-1])\n",
    "    filename = remove_special_chars(file_p.split(os.sep)[-1])\n",
    "    filename = del_duplicated_underbar(filename)\n",
    "    \n",
    "    new_file_p = pjoin(dirname, filename)\n",
    "    if file_p == new_file_p: continue\n",
    "\n",
    "    assert not os.path.exists(new_file_p), f\"Already exist: {new_file_p}\"\n",
    "    os.rename(file_p, new_file_p)"
   ]
  },
  {
   "cell_type": "markdown",
   "metadata": {},
   "source": []
  },
  {
   "cell_type": "code",
   "execution_count": 45,
   "metadata": {},
   "outputs": [],
   "source": [
    "train_happy = read_json(pjoin(ANNOT_DIR, \"happy\", \"img_emotion_training_data.json\"))"
   ]
  },
  {
   "cell_type": "code",
   "execution_count": 47,
   "metadata": {},
   "outputs": [
    {
     "data": {
      "text/plain": [
       "60103"
      ]
     },
     "execution_count": 47,
     "metadata": {},
     "output_type": "execute_result"
    }
   ],
   "source": [
    "len(train_happy)"
   ]
  },
  {
   "cell_type": "code",
   "execution_count": 49,
   "metadata": {},
   "outputs": [
    {
     "data": {
      "text/plain": [
       "{'filename': '5f656a0f627a3ef96dec882437e3e7ada1c7a877201cf54dcd7a2c4508588ff3_여_30_기쁨_공공시설&종교&의료시설_20201204105732-001-007.jpg',\n",
       " 'gender': '여',\n",
       " 'age': 30,\n",
       " 'isProf': '전문인',\n",
       " 'faceExp_uploader': '기쁨',\n",
       " 'bg_uploader': '공공시설/종교/의료시설',\n",
       " 'annot_A': {'boxes': {'maxX': 1912.2253,\n",
       "   'maxY': 1581.6027,\n",
       "   'minX': 1187.4949,\n",
       "   'minY': 579.22235},\n",
       "  'faceExp': '기쁨',\n",
       "  'bg': '공공시설/종교/의료'},\n",
       " 'annot_B': {'boxes': {'maxX': 1912.348108621648,\n",
       "   'maxY': 1572.1522585800617,\n",
       "   'minX': 1206.363701502596,\n",
       "   'minY': 579.1777983055337},\n",
       "  'faceExp': '기쁨',\n",
       "  'bg': '공공시설/종교/의료'},\n",
       " 'annot_C': {'boxes': {'maxX': 1890.909447114109,\n",
       "   'maxY': 1567.448627450284,\n",
       "   'minX': 1183.8414475546967,\n",
       "   'minY': 596.9434661684523},\n",
       "  'faceExp': '기쁨',\n",
       "  'bg': '공공시설/종교/의료'}}"
      ]
     },
     "execution_count": 49,
     "metadata": {},
     "output_type": "execute_result"
    }
   ],
   "source": [
    "train_happy[0]"
   ]
  },
  {
   "cell_type": "code",
   "execution_count": null,
   "metadata": {},
   "outputs": [],
   "source": []
  }
 ],
 "metadata": {
  "kernelspec": {
   "display_name": "cmu",
   "language": "python",
   "name": "python3"
  },
  "language_info": {
   "codemirror_mode": {
    "name": "ipython",
    "version": 3
   },
   "file_extension": ".py",
   "mimetype": "text/x-python",
   "name": "python",
   "nbconvert_exporter": "python",
   "pygments_lexer": "ipython3",
   "version": "3.8.17"
  },
  "orig_nbformat": 4
 },
 "nbformat": 4,
 "nbformat_minor": 2
}
